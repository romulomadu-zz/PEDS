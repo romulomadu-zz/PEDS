{
 "cells": [
  {
   "cell_type": "markdown",
   "metadata": {},
   "source": [
    "# Álgebra Linear Computacional - Lista de Exercícios\n",
    "\n",
    "**Professor:** Guterres\n",
    "\n",
    "**Aluno:** Rômulo Madureira Rodrigues"
   ]
  },
  {
   "cell_type": "code",
   "execution_count": null,
   "metadata": {},
   "outputs": [],
   "source": [
    "import numpy as np\n",
    "from sympy import Matrix, Symbol, pprint, simplify, factor"
   ]
  },
  {
   "cell_type": "markdown",
   "metadata": {},
   "source": [
    "## Exercício 1 \n",
    "*Resolva por eliminação de Gauss os seguintes sistemas de equações lineares:*\n"
   ]
  },
  {
   "cell_type": "markdown",
   "metadata": {},
   "source": [
    "*a)* $\\begin{cases} x + 2y = 1 \\\\ x + 3y = 0\\end{cases}$"
   ]
  },
  {
   "cell_type": "code",
   "execution_count": null,
   "metadata": {},
   "outputs": [],
   "source": [
    "A = np.array([[1.,2.],[1.,3.]])\n",
    "b = np.array([[1.],[0.]])\n",
    "Ab = np.concatenate((A,b), axis=1)"
   ]
  },
  {
   "cell_type": "code",
   "execution_count": null,
   "metadata": {},
   "outputs": [],
   "source": [
    "Ab[1] = (Ab[1]-Ab[0])"
   ]
  },
  {
   "cell_type": "code",
   "execution_count": null,
   "metadata": {},
   "outputs": [],
   "source": [
    "Ab[0] = Ab[0]-2*Ab[1]"
   ]
  },
  {
   "cell_type": "markdown",
   "metadata": {},
   "source": [
    "*Solução:*"
   ]
  },
  {
   "cell_type": "code",
   "execution_count": null,
   "metadata": {},
   "outputs": [],
   "source": [
    "print(Ab[:,2])"
   ]
  },
  {
   "cell_type": "markdown",
   "metadata": {},
   "source": [
    "*b)* $\\begin{cases} 2x + 3y = 1 \\\\ 4x + 6y = 2\\end{cases}$"
   ]
  },
  {
   "cell_type": "code",
   "execution_count": null,
   "metadata": {},
   "outputs": [],
   "source": [
    "A = np.array([[2.,3.],[4.,6.]])\n",
    "b = np.array([[1.],[2.]])\n",
    "Ab = np.concatenate((A,b), axis=1)"
   ]
  },
  {
   "cell_type": "code",
   "execution_count": null,
   "metadata": {},
   "outputs": [],
   "source": [
    "Ab[1] = Ab[1]-Ab[0]*2"
   ]
  },
  {
   "cell_type": "code",
   "execution_count": null,
   "metadata": {},
   "outputs": [],
   "source": [
    "print(Ab)"
   ]
  },
  {
   "cell_type": "markdown",
   "metadata": {},
   "source": [
    "*Solução:* A solução é indeterminada, pois ao fazer eliminação de Gauss uma equação tem zerado todos os seus termos indicando dependência linear entre equações."
   ]
  },
  {
   "cell_type": "markdown",
   "metadata": {},
   "source": [
    "*c)* $\\begin{cases} 4x + 5y = 1 \\\\ 12x + 15y = 0\\end{cases}$"
   ]
  },
  {
   "cell_type": "code",
   "execution_count": null,
   "metadata": {},
   "outputs": [],
   "source": [
    "A = np.array([[4.,5.],[12.,15.]])\n",
    "b = np.array([[1.],[0.]])\n",
    "Ab = np.concatenate((A,b), axis=1)"
   ]
  },
  {
   "cell_type": "code",
   "execution_count": null,
   "metadata": {},
   "outputs": [],
   "source": [
    "Ab[0] = Ab[0]*3"
   ]
  },
  {
   "cell_type": "code",
   "execution_count": null,
   "metadata": {},
   "outputs": [],
   "source": [
    "print(Ab)"
   ]
  },
  {
   "cell_type": "markdown",
   "metadata": {},
   "source": [
    "*Solução:* Impossível´determinar dado a contradição entra as esquações"
   ]
  },
  {
   "cell_type": "markdown",
   "metadata": {},
   "source": [
    "*d)* $\\begin{cases} x + y = 1 \\\\ 3x - y = 2 \\\\ x - y = 0\\end{cases}$"
   ]
  },
  {
   "cell_type": "code",
   "execution_count": null,
   "metadata": {},
   "outputs": [],
   "source": [
    "A = np.array([[1.,1.],[3.,-1.],[1.,-1.]])\n",
    "b = np.array([[1.],[2.],[0.]])\n",
    "Ab = np.concatenate((A,b), axis=1)"
   ]
  },
  {
   "cell_type": "code",
   "execution_count": null,
   "metadata": {},
   "outputs": [],
   "source": [
    "Ab[2] = (Ab[2] - Ab[0])/-2"
   ]
  },
  {
   "cell_type": "code",
   "execution_count": null,
   "metadata": {},
   "outputs": [],
   "source": [
    "Ab[0] = Ab[0] - Ab[2]"
   ]
  },
  {
   "cell_type": "code",
   "execution_count": null,
   "metadata": {},
   "outputs": [],
   "source": [
    "print(Ab)"
   ]
  },
  {
   "cell_type": "markdown",
   "metadata": {},
   "source": [
    "*Solução:* o número de equações excedem o necessário e são linearmente independentes, desta forma é impossível encontrar uma solução."
   ]
  },
  {
   "cell_type": "markdown",
   "metadata": {},
   "source": [
    "*e)* $\\begin{cases} 2a + 2b + 3c = 1 \\\\ a + 2y + c = 0 \\\\ a - b + c = 0\\end{cases}$"
   ]
  },
  {
   "cell_type": "code",
   "execution_count": null,
   "metadata": {},
   "outputs": [],
   "source": [
    "A = np.array([[2.,2.,3.],[1.,2.,1.],[1.,-1.,1.]])\n",
    "b = np.array([[1.],[0.],[0.]])\n",
    "Ab = np.concatenate((A,b), axis=1)"
   ]
  },
  {
   "cell_type": "code",
   "execution_count": null,
   "metadata": {},
   "outputs": [],
   "source": [
    "Ab[2] = (Ab[2]-Ab[1])*-1"
   ]
  },
  {
   "cell_type": "code",
   "execution_count": null,
   "metadata": {},
   "outputs": [],
   "source": [
    "Ab[1] = Ab[1]-Ab[0]/2"
   ]
  },
  {
   "cell_type": "code",
   "execution_count": null,
   "metadata": {},
   "outputs": [],
   "source": [
    "Ab[2] = Ab[2] - Ab[1]*3"
   ]
  },
  {
   "cell_type": "code",
   "execution_count": null,
   "metadata": {},
   "outputs": [],
   "source": [
    "Ab[2] = Ab[2]/1.5"
   ]
  },
  {
   "cell_type": "code",
   "execution_count": null,
   "metadata": {},
   "outputs": [],
   "source": [
    "Ab[1] = Ab[1]-Ab[2]*-.5"
   ]
  },
  {
   "cell_type": "code",
   "execution_count": null,
   "metadata": {},
   "outputs": [],
   "source": [
    "Ab[0] = Ab[0]-Ab[1]*2"
   ]
  },
  {
   "cell_type": "code",
   "execution_count": null,
   "metadata": {},
   "outputs": [],
   "source": [
    "Ab[0] = Ab[0] - Ab[2]*3"
   ]
  },
  {
   "cell_type": "code",
   "execution_count": null,
   "metadata": {},
   "outputs": [],
   "source": [
    "Ab[0] = Ab[0]/2"
   ]
  },
  {
   "cell_type": "markdown",
   "metadata": {},
   "source": [
    "*Solução:*"
   ]
  },
  {
   "cell_type": "code",
   "execution_count": null,
   "metadata": {},
   "outputs": [],
   "source": [
    "print(Ab[:,3])"
   ]
  },
  {
   "cell_type": "markdown",
   "metadata": {},
   "source": [
    "*f)* $\\begin{cases} x + 2y + 3z = 1 \\\\ 4x + 7y + 7z = 3 \\\\ 2x + 3y + z = 0\\end{cases}$"
   ]
  },
  {
   "cell_type": "code",
   "execution_count": null,
   "metadata": {},
   "outputs": [],
   "source": [
    "A = np.array([[1.,2.,3.],[4.,7.,7.],[2.,3.,1.]])\n",
    "b = np.array([[1.],[3.],[0.]])\n",
    "Ab = np.concatenate((A,b), axis=1)"
   ]
  },
  {
   "cell_type": "code",
   "execution_count": null,
   "metadata": {},
   "outputs": [],
   "source": [
    "Ab[2] = Ab[2] - Ab[0]*2"
   ]
  },
  {
   "cell_type": "code",
   "execution_count": null,
   "metadata": {},
   "outputs": [],
   "source": [
    "Ab[1] = Ab[1] - Ab[0]*4"
   ]
  },
  {
   "cell_type": "code",
   "execution_count": null,
   "metadata": {},
   "outputs": [],
   "source": [
    "print(Ab)"
   ]
  },
  {
   "cell_type": "code",
   "execution_count": null,
   "metadata": {},
   "outputs": [],
   "source": [
    "Ab[2] = Ab[2] - Ab[1]"
   ]
  },
  {
   "cell_type": "code",
   "execution_count": null,
   "metadata": {},
   "outputs": [],
   "source": [
    "print(Ab)"
   ]
  },
  {
   "cell_type": "markdown",
   "metadata": {},
   "source": [
    "*Solução:* Não há solução, pois a igualdade da terceira equação após eliminação de gauss não é possivel matematicamente"
   ]
  },
  {
   "cell_type": "markdown",
   "metadata": {},
   "source": [
    "*g)* $\\begin{cases} x + 2y + z = 0 \\\\ 4x + 10y + 10z = 0 \\\\ x + 3y + 4z = 0\\end{cases}$"
   ]
  },
  {
   "cell_type": "code",
   "execution_count": null,
   "metadata": {},
   "outputs": [],
   "source": [
    "A = np.array([[1.,2.,1.],[4.,10.,10.],[1.,3.,4.]])\n",
    "b = np.array([[1.],[3.],[0.]])\n",
    "Ab = np.concatenate((A,b), axis=1)"
   ]
  },
  {
   "cell_type": "code",
   "execution_count": null,
   "metadata": {},
   "outputs": [],
   "source": [
    "Ab[2] = Ab[2] - Ab[0]"
   ]
  },
  {
   "cell_type": "code",
   "execution_count": null,
   "metadata": {},
   "outputs": [],
   "source": [
    "Ab[1] = Ab[1] - Ab[0]*4"
   ]
  },
  {
   "cell_type": "code",
   "execution_count": null,
   "metadata": {},
   "outputs": [],
   "source": [
    "Ab[2] = Ab[2] - Ab[1]/2"
   ]
  },
  {
   "cell_type": "code",
   "execution_count": null,
   "metadata": {},
   "outputs": [],
   "source": [
    "print(Ab)"
   ]
  },
  {
   "cell_type": "markdown",
   "metadata": {},
   "source": [
    "*Solução:* Não há solução, pois a igualdade da terceira equação após eliminação de gauss não é possivel matematicamente"
   ]
  },
  {
   "cell_type": "markdown",
   "metadata": {},
   "source": [
    "*h)* $\\begin{cases} 2x + 3y + z = 0 \\\\ x + y + z = 0\\end{cases}$"
   ]
  },
  {
   "cell_type": "code",
   "execution_count": null,
   "metadata": {},
   "outputs": [],
   "source": [
    "A = np.array([[2.,3.,1.],[1.,1.,1.]])\n",
    "b = np.array([[0.],[0.]])\n",
    "Ab = np.concatenate((A,b), axis=1)"
   ]
  },
  {
   "cell_type": "code",
   "execution_count": null,
   "metadata": {},
   "outputs": [],
   "source": [
    "Ab[1] = Ab[1] - Ab[0]/2"
   ]
  },
  {
   "cell_type": "code",
   "execution_count": null,
   "metadata": {},
   "outputs": [],
   "source": [
    "print(Ab)"
   ]
  },
  {
   "cell_type": "markdown",
   "metadata": {},
   "source": [
    "*Solução:* A solução é indeterminada, pois há mais icógnitas do que equações"
   ]
  },
  {
   "cell_type": "markdown",
   "metadata": {},
   "source": [
    "*i)* $\\begin{cases} 2x_1 + x_2 + x_3 + x_4 = 1 \\\\ 2x_1 + x_2 - x_3 + x_4 = 3\\end{cases}$"
   ]
  },
  {
   "cell_type": "code",
   "execution_count": null,
   "metadata": {},
   "outputs": [],
   "source": [
    "A = np.array([[2.,1,1.,1.],[2.,1.,-1.,1.]])\n",
    "b = np.array([[1.],[3.]])\n",
    "Ab = np.concatenate((A,b), axis=1)"
   ]
  },
  {
   "cell_type": "code",
   "execution_count": null,
   "metadata": {},
   "outputs": [],
   "source": [
    "Ab[1] = Ab[1] - Ab[0]"
   ]
  },
  {
   "cell_type": "code",
   "execution_count": null,
   "metadata": {},
   "outputs": [],
   "source": [
    "print(Ab)"
   ]
  },
  {
   "cell_type": "markdown",
   "metadata": {},
   "source": [
    "*Solução:* A solução é indeterminada, pois ao fazer eliminação de Gauss uma equação tem zerado todos os seus termos indicando dependência linear entre equações."
   ]
  },
  {
   "cell_type": "markdown",
   "metadata": {},
   "source": [
    "*j)* $\\begin{cases} 2x + 2y + 2z + 3w = 3 \\\\ x + y + z + w = 1 \\\\ 3x + 3y + 3z + 2w = 2\\end{cases}$"
   ]
  },
  {
   "cell_type": "code",
   "execution_count": null,
   "metadata": {},
   "outputs": [],
   "source": [
    "A = np.array([[2.,2.,2.,3.],[1.,1.,1.,1.],[3.,3.,3.,2.]])\n",
    "b = np.array([[3.],[1.],[2.]])\n",
    "Ab = np.concatenate((A,b), axis=1)"
   ]
  },
  {
   "cell_type": "code",
   "execution_count": null,
   "metadata": {},
   "outputs": [],
   "source": [
    "Ab[2] = Ab[2] - Ab[0]*3/2"
   ]
  },
  {
   "cell_type": "code",
   "execution_count": null,
   "metadata": {},
   "outputs": [],
   "source": [
    "Ab[1] = Ab[1] - Ab[0]/2"
   ]
  },
  {
   "cell_type": "code",
   "execution_count": null,
   "metadata": {},
   "outputs": [],
   "source": [
    "print(Ab)"
   ]
  },
  {
   "cell_type": "markdown",
   "metadata": {},
   "source": [
    "*Solução:* A solução é indeterminada, pois há mais icógnitas do que equações"
   ]
  },
  {
   "cell_type": "markdown",
   "metadata": {},
   "source": [
    "*k)* $\\begin{cases} x + z + 2w = 0 \\\\ 2x + 3z + 3w = 0 \\\\ y + 2w = 2 \\\\ x + 2z + w = 0\\end{cases}$"
   ]
  },
  {
   "cell_type": "code",
   "execution_count": null,
   "metadata": {},
   "outputs": [],
   "source": [
    "A = np.array([[1.,0.,1.,2],[2.,0.,3.,3.],[0.,1.,0.,2.],[1.,0.,2.,1.]])\n",
    "b = np.array([[0.],[0.],[2.],[0.]])\n",
    "Ab = np.concatenate((A,b), axis=1)"
   ]
  },
  {
   "cell_type": "code",
   "execution_count": null,
   "metadata": {},
   "outputs": [],
   "source": [
    "Ab[3] = Ab[3] - Ab[0]"
   ]
  },
  {
   "cell_type": "code",
   "execution_count": null,
   "metadata": {},
   "outputs": [],
   "source": [
    "Ab[1] = Ab[1] - Ab[0]*2"
   ]
  },
  {
   "cell_type": "code",
   "execution_count": null,
   "metadata": {},
   "outputs": [],
   "source": [
    "Ab[3] = Ab[3] - Ab[1]"
   ]
  },
  {
   "cell_type": "code",
   "execution_count": null,
   "metadata": {},
   "outputs": [],
   "source": [
    "print(Ab)"
   ]
  },
  {
   "cell_type": "markdown",
   "metadata": {},
   "source": [
    "*Solução:* A solução é indeterminada, pois ao fazer eliminação de Gauss uma equação tem zerado todos os seus termos indicando dependência linear entre equações."
   ]
  },
  {
   "cell_type": "markdown",
   "metadata": {},
   "source": [
    "*l)* $\\begin{cases} y_1 + y_3 + 2y_4 = 0 \\\\ y_1 + 2y_2 + y_3 + y_4 = 1 \\\\ y_2 + 2y_4 = 8 \\\\ y_1 + 2y_3 + y_4 = 0 \\end{cases}$"
   ]
  },
  {
   "cell_type": "code",
   "execution_count": null,
   "metadata": {},
   "outputs": [],
   "source": [
    "A = np.array([[1.,0.,1.,2],[1.,2.,1.,1.],[0.,1.,0.,2.],[1.,0.,2.,1.]])\n",
    "b = np.array([[0.],[1.],[8.],[0.]])\n",
    "Ab = np.concatenate((A,b), axis=1)"
   ]
  },
  {
   "cell_type": "code",
   "execution_count": null,
   "metadata": {},
   "outputs": [],
   "source": [
    "Ab[3] =  Ab[3] - Ab[0]"
   ]
  },
  {
   "cell_type": "code",
   "execution_count": null,
   "metadata": {},
   "outputs": [],
   "source": [
    "Ab[1] =  Ab[1] - Ab[0]"
   ]
  },
  {
   "cell_type": "code",
   "execution_count": null,
   "metadata": {},
   "outputs": [],
   "source": [
    "Ab[1] =  Ab[1]/2"
   ]
  },
  {
   "cell_type": "code",
   "execution_count": null,
   "metadata": {},
   "outputs": [],
   "source": [
    "Ab[2] =  Ab[2] - Ab[1]"
   ]
  },
  {
   "cell_type": "code",
   "execution_count": null,
   "metadata": {},
   "outputs": [],
   "source": [
    "Ab[0] =  Ab[0] - Ab[3]"
   ]
  },
  {
   "cell_type": "code",
   "execution_count": null,
   "metadata": {},
   "outputs": [],
   "source": [
    "Ab[2] =  Ab[2]/2.5"
   ]
  },
  {
   "cell_type": "code",
   "execution_count": null,
   "metadata": {},
   "outputs": [],
   "source": [
    "Ab[3] =  Ab[3] + Ab[2]"
   ]
  },
  {
   "cell_type": "code",
   "execution_count": null,
   "metadata": {},
   "outputs": [],
   "source": [
    "Ab[0] =  Ab[0] - Ab[2]*3"
   ]
  },
  {
   "cell_type": "code",
   "execution_count": null,
   "metadata": {},
   "outputs": [],
   "source": [
    "Ab[1] =  Ab[1] + Ab[2]*0.5"
   ]
  },
  {
   "cell_type": "code",
   "execution_count": null,
   "metadata": {},
   "outputs": [],
   "source": [
    "Ab[[2,3]] = Ab[[-1,-2]]"
   ]
  },
  {
   "cell_type": "markdown",
   "metadata": {},
   "source": [
    "*Solução:*"
   ]
  },
  {
   "cell_type": "code",
   "execution_count": null,
   "metadata": {},
   "outputs": [],
   "source": [
    "print(Ab[:,4])"
   ]
  },
  {
   "cell_type": "markdown",
   "metadata": {},
   "source": [
    "## Exercício 2\n",
    "*Discuta, em função dos parâmetros $\\alpha$ e $\\beta$, os seguintes sistemas de equações lineares:*"
   ]
  },
  {
   "cell_type": "markdown",
   "metadata": {},
   "source": [
    "*a)* $\\begin{cases} x + 4y + 3z = 10 \\\\ 2x + 7y - 2z = 10 \\\\ x + 5y + \\alpha z =\\beta \\end{cases}$"
   ]
  },
  {
   "cell_type": "code",
   "execution_count": null,
   "metadata": {},
   "outputs": [],
   "source": [
    "α = Symbol('α')\n",
    "β =  Symbol('β')\n",
    "Ab = Matrix([[1,4,3,10],[2,7,-2,10],[1,5,α,β]])"
   ]
  },
  {
   "cell_type": "markdown",
   "metadata": {},
   "source": [
    "Por eliminação de Gaus-Jordan:"
   ]
  },
  {
   "cell_type": "code",
   "execution_count": null,
   "metadata": {},
   "outputs": [],
   "source": [
    "Ab[2,:] = Ab[2,:] - Ab[0,:]"
   ]
  },
  {
   "cell_type": "code",
   "execution_count": null,
   "metadata": {},
   "outputs": [],
   "source": [
    "Ab[1,:] = Ab[1,:] - Ab[0,:]*2"
   ]
  },
  {
   "cell_type": "code",
   "execution_count": null,
   "metadata": {},
   "outputs": [],
   "source": [
    "Ab[1,:] = Ab[1,:]*-1"
   ]
  },
  {
   "cell_type": "code",
   "execution_count": null,
   "metadata": {},
   "outputs": [],
   "source": [
    "Ab[2,:] = Ab[2,:] - Ab[1,:]"
   ]
  },
  {
   "cell_type": "code",
   "execution_count": null,
   "metadata": {},
   "outputs": [],
   "source": [
    "Ab[0,:] = Ab[0,:] - Ab[1,:]*4"
   ]
  },
  {
   "cell_type": "code",
   "execution_count": null,
   "metadata": {},
   "outputs": [],
   "source": [
    "Ab[2,:] = Ab[2,:]/(α - 11)"
   ]
  },
  {
   "cell_type": "code",
   "execution_count": null,
   "metadata": {},
   "outputs": [],
   "source": [
    "Ab[0,:] = Ab[0,:] - Ab[2,:]*-29"
   ]
  },
  {
   "cell_type": "code",
   "execution_count": null,
   "metadata": {},
   "outputs": [],
   "source": [
    "Ab[1,:] = Ab[1,:] - Ab[2,:]*8"
   ]
  },
  {
   "cell_type": "markdown",
   "metadata": {},
   "source": [
    "Solução:"
   ]
  },
  {
   "cell_type": "code",
   "execution_count": null,
   "metadata": {},
   "outputs": [],
   "source": [
    "pprint(Ab[:,3])"
   ]
  },
  {
   "cell_type": "markdown",
   "metadata": {},
   "source": [
    "para $\\alpha \\neq 11$."
   ]
  },
  {
   "cell_type": "markdown",
   "metadata": {},
   "source": [
    "*b)* $\\begin{cases} 2x + y + z = 6\\beta \\\\ \\alpha x + 3y + 2z = 2\\beta \\\\ 2x + y + (\\alpha+1)z =4\\end{cases}$"
   ]
  },
  {
   "cell_type": "code",
   "execution_count": null,
   "metadata": {},
   "outputs": [],
   "source": [
    "α = Symbol('α')\n",
    "β =  Symbol('β')\n",
    "Ab = Matrix([[2,1,1,-6*β],[α,3,2,2*β],[2,1,(α+1),4]])"
   ]
  },
  {
   "cell_type": "code",
   "execution_count": null,
   "metadata": {},
   "outputs": [],
   "source": [
    "Ab[2,:] = Ab[2,:] - Ab[0,:] "
   ]
  },
  {
   "cell_type": "code",
   "execution_count": null,
   "metadata": {},
   "outputs": [],
   "source": [
    "Ab[1,:] = Ab[1,:] - Ab[0,:]*α/2"
   ]
  },
  {
   "cell_type": "code",
   "execution_count": null,
   "metadata": {},
   "outputs": [],
   "source": [
    "Ab[0,:] = Ab[0,:] - Ab[1,:]*1/Ab[1,1]"
   ]
  },
  {
   "cell_type": "code",
   "execution_count": null,
   "metadata": {},
   "outputs": [],
   "source": [
    "Ab[2,:] = Ab[2,:]/Ab[2,2]\n",
    "Ab[1,:] = Ab[1,:]/Ab[1,1]\n",
    "Ab[0,:] = Ab[0,:]/2"
   ]
  },
  {
   "cell_type": "code",
   "execution_count": null,
   "metadata": {},
   "outputs": [],
   "source": [
    "Ab[1,:] = Ab[1,:] - Ab[2,:]*Ab[1,2]"
   ]
  },
  {
   "cell_type": "code",
   "execution_count": null,
   "metadata": {},
   "outputs": [],
   "source": [
    "Ab[0,:] = Ab[0,:] - Ab[2,:]*Ab[0,2]"
   ]
  },
  {
   "cell_type": "markdown",
   "metadata": {},
   "source": [
    "*Solução:*"
   ]
  },
  {
   "cell_type": "code",
   "execution_count": null,
   "metadata": {},
   "outputs": [],
   "source": [
    "pprint(simplify(Ab[:,3]))"
   ]
  },
  {
   "cell_type": "markdown",
   "metadata": {},
   "source": [
    "para $\\alpha \\neq 0$ e $\\alpha \\neq 6$."
   ]
  },
  {
   "cell_type": "markdown",
   "metadata": {},
   "source": [
    "## Exercício 3\n",
    "*Considere o sistema de equações lineares*\n",
    "\n",
    "$\\begin{cases} x + y + 3z = b_1 \\\\ 2x + 2y - z = b_2 \\\\ 4x + 4y + 5z =b_3 \\end{cases}$\n",
    "\n",
    "e calcule os vectores ($b_1$, $b_2$, $b_3$) ∈ $\\mathbb{R^3}$ para os quais o sistema é possível.\n"
   ]
  },
  {
   "cell_type": "code",
   "execution_count": null,
   "metadata": {},
   "outputs": [],
   "source": [
    "A = np.array([[1,1,3],[2,2,-1],[4,4,5]])"
   ]
  },
  {
   "cell_type": "markdown",
   "metadata": {},
   "source": [
    "Verificando se o determinante é igual a zero:"
   ]
  },
  {
   "cell_type": "code",
   "execution_count": null,
   "metadata": {},
   "outputs": [],
   "source": [
    "np.linalg.det(A)"
   ]
  },
  {
   "cell_type": "markdown",
   "metadata": {},
   "source": [
    "Solução: Sistema impossível, determinante igual a zero."
   ]
  },
  {
   "cell_type": "markdown",
   "metadata": {},
   "source": [
    "## Exercício 5\n",
    "*Sempre que possível, calcule:*"
   ]
  },
  {
   "cell_type": "markdown",
   "metadata": {},
   "source": [
    "*a)* $\\begin{equation}\n",
    "2\\begin{bmatrix} 1 & 2 \\\\ 0 & 1 \\end{bmatrix} \n",
    "+\n",
    "3\\begin{bmatrix} 0 & 2 \\\\ 6 & 1 \\end{bmatrix}\n",
    "\\end{equation}$"
   ]
  },
  {
   "cell_type": "code",
   "execution_count": null,
   "metadata": {},
   "outputs": [],
   "source": [
    "A = np.array([[1,0], [2,1]])"
   ]
  },
  {
   "cell_type": "code",
   "execution_count": null,
   "metadata": {},
   "outputs": [],
   "source": [
    "B = np.array([[0,2], [6,1]])"
   ]
  },
  {
   "cell_type": "code",
   "execution_count": null,
   "metadata": {},
   "outputs": [],
   "source": [
    "print(2*A +  3*B)"
   ]
  },
  {
   "cell_type": "markdown",
   "metadata": {},
   "source": [
    "*b)* $\\begin{equation}\n",
    "\\begin{bmatrix} 1 & 2 \\end{bmatrix} \n",
    "+\n",
    "\\begin{bmatrix} 0 \\\\ 2 \\end{bmatrix}\n",
    "\\end{equation}$"
   ]
  },
  {
   "cell_type": "markdown",
   "metadata": {},
   "source": [
    "Não é possível pois as matrizes tem dimensões diferentes (1x2 != 2x1)"
   ]
  },
  {
   "cell_type": "markdown",
   "metadata": {},
   "source": [
    "*c)* $\\begin{equation}\n",
    "\\begin{bmatrix} 1 & 0 \\\\ 0 & 1 \\end{bmatrix}\n",
    "\\begin{bmatrix} 2 \\\\ 3 \\\\ 1 \\end{bmatrix}\n",
    "\\end{equation}$"
   ]
  },
  {
   "cell_type": "markdown",
   "metadata": {},
   "source": [
    "Não é possível a multiplicação, número de colunas da primeira matriz é diferente do númerode linhas da segunda."
   ]
  },
  {
   "cell_type": "markdown",
   "metadata": {},
   "source": [
    "*d)* $\\begin{equation}\n",
    "\\begin{bmatrix} 1 & 0 & 2 \\end{bmatrix} \n",
    "\\begin{bmatrix} 2 \\\\ 3 \\\\ 1 \\end{bmatrix}\n",
    "\\end{equation}$"
   ]
  },
  {
   "cell_type": "code",
   "execution_count": null,
   "metadata": {},
   "outputs": [],
   "source": [
    "A = np.array([[1,0,2]])\n",
    "B = np.array([[2],[3],[1]])"
   ]
  },
  {
   "cell_type": "code",
   "execution_count": null,
   "metadata": {},
   "outputs": [],
   "source": [
    "print(A.dot(B))"
   ]
  },
  {
   "cell_type": "markdown",
   "metadata": {},
   "source": [
    "*e)* $\\begin{equation}\n",
    "\\begin{bmatrix} 1 & 0 \\\\ 0 & 0\\end{bmatrix} \n",
    "\\begin{bmatrix} 0 & 1 \\\\ 1 & 0 \\end{bmatrix}\n",
    "\\end{equation}$"
   ]
  },
  {
   "cell_type": "code",
   "execution_count": null,
   "metadata": {},
   "outputs": [],
   "source": [
    "A = np.array([[1,0],[0,0]])\n",
    "B = np.array([[0,1],[1,0]])"
   ]
  },
  {
   "cell_type": "code",
   "execution_count": null,
   "metadata": {},
   "outputs": [],
   "source": [
    "print(A.dot(B))"
   ]
  },
  {
   "cell_type": "markdown",
   "metadata": {},
   "source": [
    "*f)* $\\begin{equation}\n",
    "\\begin{bmatrix} 0 & 1 \\\\ 1 & 0\\end{bmatrix} \n",
    "\\begin{bmatrix} 1 & 0 \\\\ 0 & 0 \\end{bmatrix}\n",
    "\\end{equation}$"
   ]
  },
  {
   "cell_type": "code",
   "execution_count": null,
   "metadata": {},
   "outputs": [],
   "source": [
    "print(B.dot(A))"
   ]
  },
  {
   "cell_type": "markdown",
   "metadata": {},
   "source": [
    "*g)* $\\begin{equation}\n",
    "\\begin{bmatrix} 1 & 2 \\\\ 3 & 1 \\\\ 0 & 3\\end{bmatrix} \n",
    "\\begin{bmatrix} 1 & 0 & 1 \\\\ 2 & 1 & 0 \\end{bmatrix}\n",
    "\\end{equation}$"
   ]
  },
  {
   "cell_type": "code",
   "execution_count": null,
   "metadata": {},
   "outputs": [],
   "source": [
    "A = np.array([[1,2],[3,1],[0,3]])"
   ]
  },
  {
   "cell_type": "code",
   "execution_count": null,
   "metadata": {},
   "outputs": [],
   "source": [
    "B = np.array([[1,0,1],[2,1,0]])"
   ]
  },
  {
   "cell_type": "code",
   "execution_count": null,
   "metadata": {},
   "outputs": [],
   "source": [
    "print(A.dot(B))"
   ]
  },
  {
   "cell_type": "markdown",
   "metadata": {},
   "source": [
    "*h)* $\\begin{equation}\n",
    "\\begin{bmatrix} 1 & 2 & 0 \\\\ 3 & 1 & 1\\end{bmatrix} \n",
    "\\begin{bmatrix} 1 & 0 & 1 \\\\ 0 & 1 & 0 \\\\ 1 & 0 & 1\\end{bmatrix}\n",
    "\\end{equation}$"
   ]
  },
  {
   "cell_type": "code",
   "execution_count": null,
   "metadata": {},
   "outputs": [],
   "source": [
    "A = np.array([[1,2,0],[3,1,1]])"
   ]
  },
  {
   "cell_type": "code",
   "execution_count": null,
   "metadata": {},
   "outputs": [],
   "source": [
    "B = np.array([[1,0,1],[0,1,0],[1,0,1]])"
   ]
  },
  {
   "cell_type": "code",
   "execution_count": null,
   "metadata": {},
   "outputs": [],
   "source": [
    "print(A.dot(B))"
   ]
  },
  {
   "cell_type": "markdown",
   "metadata": {},
   "source": [
    "*i)* $\\begin{equation}\n",
    "\\begin{bmatrix} 1 & 0 & 0 \\\\ 0 & 1 & 0 \\\\ 0 & 0 & 1\\end{bmatrix}\n",
    "\\begin{bmatrix} 30 & 4 \\\\ 2 & 10 \\\\ 2 & 20 \\end{bmatrix} \n",
    "\\end{equation}$"
   ]
  },
  {
   "cell_type": "code",
   "execution_count": null,
   "metadata": {},
   "outputs": [],
   "source": [
    "A = np.eye(3)"
   ]
  },
  {
   "cell_type": "code",
   "execution_count": null,
   "metadata": {},
   "outputs": [],
   "source": [
    "B =  np.array([[30,4],[2,10],[2,20]])"
   ]
  },
  {
   "cell_type": "code",
   "execution_count": null,
   "metadata": {},
   "outputs": [],
   "source": [
    "print(A.dot(B))"
   ]
  },
  {
   "cell_type": "markdown",
   "metadata": {},
   "source": [
    "*j)* $\\begin{equation}\n",
    "\\begin{bmatrix} 0 & 0 & 1 \\\\ 0 & 1 & 0 \\\\ 1 & 0 & 0\\end{bmatrix}\n",
    "\\begin{bmatrix} 30 & 4 \\\\ 2 & 10 \\\\ 2 & 20 \\end{bmatrix} \n",
    "\\end{equation}$"
   ]
  },
  {
   "cell_type": "code",
   "execution_count": null,
   "metadata": {},
   "outputs": [],
   "source": [
    "A = np.flip(A, axis=0)"
   ]
  },
  {
   "cell_type": "code",
   "execution_count": null,
   "metadata": {},
   "outputs": [],
   "source": [
    "print(A.dot(B))"
   ]
  },
  {
   "cell_type": "markdown",
   "metadata": {},
   "source": [
    "*k)* $\\begin{equation}\n",
    "\\begin{bmatrix} 1 & 0 & 0 \\\\ 0 & 1 & 0 \\\\ 0 & 0 & 3\\end{bmatrix}\n",
    "\\begin{bmatrix} 30 & 4 \\\\ 2 & 10 \\\\ 2 & 20 \\end{bmatrix} \n",
    "\\end{equation}$"
   ]
  },
  {
   "cell_type": "code",
   "execution_count": null,
   "metadata": {},
   "outputs": [],
   "source": [
    "A = np.eye(3)\n",
    "A[2] = A[2]*3"
   ]
  },
  {
   "cell_type": "code",
   "execution_count": null,
   "metadata": {},
   "outputs": [],
   "source": [
    "print(A.dot(B))"
   ]
  },
  {
   "cell_type": "markdown",
   "metadata": {},
   "source": [
    "*l)* $\\begin{equation}\n",
    "\\begin{bmatrix} 1 & 0 & 0 \\\\ 0 & 1 & 0 \\\\ 2 & 0 & 1\\end{bmatrix}\n",
    "\\begin{bmatrix} 30 & 4 \\\\ 2 & 10 \\\\ 2 & 20 \\end{bmatrix} \n",
    "\\end{equation}$"
   ]
  },
  {
   "cell_type": "code",
   "execution_count": null,
   "metadata": {},
   "outputs": [],
   "source": [
    "A = np.eye(3)\n",
    "A[2] = A[2] + np.array([[2,0,0]])"
   ]
  },
  {
   "cell_type": "code",
   "execution_count": null,
   "metadata": {},
   "outputs": [],
   "source": [
    "print(A.dot(B))"
   ]
  },
  {
   "cell_type": "markdown",
   "metadata": {},
   "source": [
    "## Exercício 6\n",
    "*Mostre que a inversa de uma matriz $A ∈  \\mathbb{R}^{n×n}$, quando existe, é única.*\n",
    "\n",
    "![exec6](exec6.jpg)"
   ]
  },
  {
   "cell_type": "markdown",
   "metadata": {},
   "source": [
    "## Exercício 7\n",
    "Mostre que se as matrizes $A$ e $B ∈ \\mathbb{R}^{n×n}$ são invertíveis, então também AB é invertível,\n",
    "tendo-se ainda $(AB)^{−1} = B^{−1}A^{−1}$.\n",
    "\n",
    "![exec7](exec7.jpg)"
   ]
  },
  {
   "cell_type": "markdown",
   "metadata": {},
   "source": [
    "## Exercício 9\n",
    "*Sempre que possível, calcule a inversa de cada uma das seguintes matrizes:*"
   ]
  },
  {
   "cell_type": "markdown",
   "metadata": {},
   "source": [
    "*a)* $\\begin{equation}\n",
    "\\begin{bmatrix} 0 & 0 \\\\ 0 & 0\\end{bmatrix}\n",
    "\\end{equation}$"
   ]
  },
  {
   "cell_type": "markdown",
   "metadata": {},
   "source": [
    "Não existe inversa, determinante igual a zero.\n",
    "\n"
   ]
  },
  {
   "cell_type": "markdown",
   "metadata": {},
   "source": [
    "*b)* $\\begin{equation}\n",
    "\\begin{bmatrix} 1 & 0 \\\\ 0 & 1\\end{bmatrix}\n",
    "\\end{equation}$"
   ]
  },
  {
   "cell_type": "markdown",
   "metadata": {},
   "source": [
    "Inversa da matriz identididade é a própria matriz identidade, elemento neutro das operações matriciais.\n"
   ]
  },
  {
   "cell_type": "markdown",
   "metadata": {},
   "source": [
    "*c)* $\\begin{equation}\n",
    "\\begin{bmatrix} 1 & 2 \\\\ 2 & 1\\end{bmatrix}\n",
    "\\end{equation}$"
   ]
  },
  {
   "cell_type": "code",
   "execution_count": null,
   "metadata": {},
   "outputs": [],
   "source": [
    "A = np.array([[1,2],[2,1]])"
   ]
  },
  {
   "cell_type": "markdown",
   "metadata": {},
   "source": [
    "Verificando se determinante é diferente de zero:"
   ]
  },
  {
   "cell_type": "code",
   "execution_count": null,
   "metadata": {},
   "outputs": [],
   "source": [
    "detA = np.linalg.det(A)\n",
    "print(detA)"
   ]
  },
  {
   "cell_type": "code",
   "execution_count": null,
   "metadata": {},
   "outputs": [],
   "source": [
    "invA = np.linalg.inv(A)\n",
    "print(invA)"
   ]
  },
  {
   "cell_type": "markdown",
   "metadata": {},
   "source": [
    "*d)* $\\begin{equation}\n",
    "\\begin{bmatrix} 1 & 0 & 0 \\\\ 1 & 1 & 0 \\\\ 1 & 1 & 1\\end{bmatrix}\n",
    "\\end{equation}$"
   ]
  },
  {
   "cell_type": "code",
   "execution_count": null,
   "metadata": {},
   "outputs": [],
   "source": [
    "A = np.tril(np.ones((3,3)))"
   ]
  },
  {
   "cell_type": "markdown",
   "metadata": {},
   "source": [
    "Verificando se determinante é diferente de zero:"
   ]
  },
  {
   "cell_type": "code",
   "execution_count": null,
   "metadata": {},
   "outputs": [],
   "source": [
    "detA = np.linalg.det(A)\n",
    "print(detA)"
   ]
  },
  {
   "cell_type": "code",
   "execution_count": null,
   "metadata": {},
   "outputs": [],
   "source": [
    "invA = np.linalg.inv(A)\n",
    "print(invA)"
   ]
  },
  {
   "cell_type": "markdown",
   "metadata": {},
   "source": [
    "*e)* $\\begin{equation}\n",
    "\\begin{bmatrix} 1 & -1 & 0 \\\\ 1 & 1 & -1 \\\\ 0 & 1 & 1\\end{bmatrix}\n",
    "\\end{equation}$"
   ]
  },
  {
   "cell_type": "code",
   "execution_count": null,
   "metadata": {},
   "outputs": [],
   "source": [
    "A = np.flip(np.flip(invA, axis=0), axis=1)"
   ]
  },
  {
   "cell_type": "markdown",
   "metadata": {},
   "source": [
    "Verificando se determinante é diferente de zero:"
   ]
  },
  {
   "cell_type": "code",
   "execution_count": null,
   "metadata": {},
   "outputs": [],
   "source": [
    "detA = np.linalg.det(A)\n",
    "print(detA)"
   ]
  },
  {
   "cell_type": "code",
   "execution_count": null,
   "metadata": {},
   "outputs": [],
   "source": [
    "invA = np.linalg.inv(A)\n",
    "print(invA)"
   ]
  },
  {
   "cell_type": "markdown",
   "metadata": {},
   "source": [
    "*f)* $\\begin{equation}\n",
    "\\begin{bmatrix} 1 & 0 & 1\\\\ 0 & 1 & 0 \\\\ 3 & 3 & 3\\end{bmatrix}\n",
    "\\end{equation}$"
   ]
  },
  {
   "cell_type": "code",
   "execution_count": null,
   "metadata": {},
   "outputs": [],
   "source": [
    "A = np.array([[1,0,1],[0,1,0],[3,3,3]])"
   ]
  },
  {
   "cell_type": "markdown",
   "metadata": {},
   "source": [
    "Verificando se determinante é diferente de zero:"
   ]
  },
  {
   "cell_type": "code",
   "execution_count": null,
   "metadata": {},
   "outputs": [],
   "source": [
    "detA = np.linalg.det(A)\n",
    "print(detA)"
   ]
  },
  {
   "cell_type": "markdown",
   "metadata": {},
   "source": [
    "Não possui inversa pois determinante é igual a zero."
   ]
  },
  {
   "cell_type": "markdown",
   "metadata": {},
   "source": [
    "*g)* $\\begin{equation}\n",
    "\\begin{bmatrix} 1 & 2 & 3 & 4 \\\\ 0 & 1 & 2 & 3 \\\\ 0 & 0 & 1 & 2 \\\\ 0 & 0 & 0 & 1\\end{bmatrix}\n",
    "\\end{equation}$"
   ]
  },
  {
   "cell_type": "code",
   "execution_count": null,
   "metadata": {},
   "outputs": [],
   "source": [
    "A = np.array([[1,2,3,4],[0,1,2,3],[0,0,1,2],[0,0,0,1]])"
   ]
  },
  {
   "cell_type": "code",
   "execution_count": null,
   "metadata": {},
   "outputs": [],
   "source": [
    "detA = np.linalg.det(A)\n",
    "print(detA)"
   ]
  },
  {
   "cell_type": "code",
   "execution_count": null,
   "metadata": {},
   "outputs": [],
   "source": [
    "invA = np.linalg.inv(A)\n",
    "invA"
   ]
  },
  {
   "cell_type": "markdown",
   "metadata": {},
   "source": [
    "*h)* $\\begin{equation}\n",
    "\\begin{bmatrix} 1 & 0 & 1 & 0 \\\\ 0 & 1 & 0 & 1 \\\\ 1 & 0 & 2 & 1 \\\\ 1 & -1 & 1 & 0\\end{bmatrix}\n",
    "\\end{equation}$"
   ]
  },
  {
   "cell_type": "code",
   "execution_count": null,
   "metadata": {},
   "outputs": [],
   "source": [
    "A = np.array([[1,0,1,0],[0,1,0,1],[1,0,2,1],[1,-1,1,0]])"
   ]
  },
  {
   "cell_type": "code",
   "execution_count": null,
   "metadata": {},
   "outputs": [],
   "source": [
    "detA = np.linalg.det(A)\n",
    "detA"
   ]
  },
  {
   "cell_type": "code",
   "execution_count": null,
   "metadata": {},
   "outputs": [],
   "source": [
    "invA = np.linalg.inv(A)\n",
    "invA"
   ]
  },
  {
   "cell_type": "markdown",
   "metadata": {},
   "source": [
    "## Exercício 10\n",
    "*Utilizando o exercício anterior, resolva os sistemas de equações lineares::*"
   ]
  },
  {
   "cell_type": "markdown",
   "metadata": {},
   "source": [
    "*a)* $\\begin{cases} x - y = 0 \\\\ x + y - z= 1 \\\\ y + z = -1\\end{cases}$"
   ]
  },
  {
   "cell_type": "code",
   "execution_count": null,
   "metadata": {},
   "outputs": [],
   "source": [
    "A = np.array([[1,-1,0],[1,1,-1],[0,1,1]])\n",
    "b = np.array([[0],[1],[1]])"
   ]
  },
  {
   "cell_type": "markdown",
   "metadata": {},
   "source": [
    "Verificando se determinante é diferente de zero:"
   ]
  },
  {
   "cell_type": "code",
   "execution_count": null,
   "metadata": {},
   "outputs": [],
   "source": [
    "print(np.linalg.det(A))"
   ]
  },
  {
   "cell_type": "markdown",
   "metadata": {},
   "source": [
    "*Solução:*"
   ]
  },
  {
   "cell_type": "code",
   "execution_count": null,
   "metadata": {},
   "outputs": [],
   "source": [
    "print(np.linalg.inv(A).dot(b))"
   ]
  },
  {
   "cell_type": "markdown",
   "metadata": {},
   "source": [
    "*b)* $\\begin{cases} x + z = 1 \\\\ y + w = 1 \\\\ x + 2z + w = -1 \\\\ x - y + z = 1\\end{cases}$"
   ]
  },
  {
   "cell_type": "code",
   "execution_count": null,
   "metadata": {},
   "outputs": [],
   "source": [
    "A = np.array([[1,0,1,0],[0,1,0,1],[1,2,0,1],[1,-1,1,0]])\n",
    "b = np.array([[1],[1],[-1],[1]])"
   ]
  },
  {
   "cell_type": "markdown",
   "metadata": {},
   "source": [
    "Verificando se determinante é diferente de zero:"
   ]
  },
  {
   "cell_type": "code",
   "execution_count": null,
   "metadata": {},
   "outputs": [],
   "source": [
    "print(np.linalg.det(A))"
   ]
  },
  {
   "cell_type": "markdown",
   "metadata": {},
   "source": [
    "*Solução:*"
   ]
  },
  {
   "cell_type": "code",
   "execution_count": null,
   "metadata": {},
   "outputs": [],
   "source": [
    "print(np.linalg.inv(A).dot(b))"
   ]
  },
  {
   "cell_type": "markdown",
   "metadata": {},
   "source": [
    "## Exercício 11 \n",
    "*Calcule o determinante de cada uma das seguintes matrizes e indique as que são invertíveis:*"
   ]
  },
  {
   "cell_type": "markdown",
   "metadata": {},
   "source": [
    "*a)* $\\begin{equation}\n",
    "\\begin{bmatrix} 1 & 2 \\\\ 2 & 1\\end{bmatrix}\n",
    "\\end{equation}$"
   ]
  },
  {
   "cell_type": "code",
   "execution_count": null,
   "metadata": {},
   "outputs": [],
   "source": [
    "A = np.array([[1,2],[2,1]])\n",
    "detA = np.linalg.det(A)\n",
    "print(detA)"
   ]
  },
  {
   "cell_type": "markdown",
   "metadata": {},
   "source": [
    "Invertível, determinante diferente de zero."
   ]
  },
  {
   "cell_type": "markdown",
   "metadata": {},
   "source": [
    "*b)* $\\begin{equation}\n",
    "\\begin{bmatrix} 1 & 1 \\\\ 1 & 1\\end{bmatrix}\n",
    "\\end{equation}$"
   ]
  },
  {
   "cell_type": "code",
   "execution_count": null,
   "metadata": {},
   "outputs": [],
   "source": [
    "A = np.array([[1,1],[1,1]])\n",
    "detA = np.linalg.det(A)\n",
    "print(detA)"
   ]
  },
  {
   "cell_type": "markdown",
   "metadata": {},
   "source": [
    "Não invertível, determinante igual a zero"
   ]
  },
  {
   "cell_type": "markdown",
   "metadata": {},
   "source": [
    "*c)* $\\begin{equation}\n",
    "\\begin{bmatrix} 1 & 0 & 3 \\\\ 0 & 3 & 1 \\\\ 0 & 0 & 3\\end{bmatrix}\n",
    "\\end{equation}$"
   ]
  },
  {
   "cell_type": "code",
   "execution_count": null,
   "metadata": {},
   "outputs": [],
   "source": [
    "A = np.array([[1,0,3],[0,3,1],[0,0,3]])"
   ]
  },
  {
   "cell_type": "code",
   "execution_count": null,
   "metadata": {},
   "outputs": [],
   "source": [
    "detA = np.linalg.det(A)\n",
    "print(detA)"
   ]
  },
  {
   "cell_type": "markdown",
   "metadata": {},
   "source": [
    "Invertível, determinante diferente de zero."
   ]
  },
  {
   "cell_type": "markdown",
   "metadata": {},
   "source": [
    "*d)* $\\begin{equation}\n",
    "\\begin{bmatrix} 1 & 0 & 0 \\\\ 1 & 1 & 0 \\\\ 1 & 1 & 1\\end{bmatrix}\n",
    "\\end{equation}$"
   ]
  },
  {
   "cell_type": "code",
   "execution_count": null,
   "metadata": {},
   "outputs": [],
   "source": [
    "A = np.tril(np.ones((3,3)))"
   ]
  },
  {
   "cell_type": "code",
   "execution_count": null,
   "metadata": {},
   "outputs": [],
   "source": [
    "detA = np.linalg.det(A)\n",
    "print(detA)"
   ]
  },
  {
   "cell_type": "markdown",
   "metadata": {},
   "source": [
    "Invertível, determinante diferente de zero."
   ]
  },
  {
   "cell_type": "markdown",
   "metadata": {},
   "source": [
    "*e)* $\\begin{equation}\n",
    "\\begin{bmatrix} 3 & 0 & 0 \\\\ 0 & 1 & -2 \\\\ 0 & 5 & 0\\end{bmatrix}\n",
    "\\end{equation}$"
   ]
  },
  {
   "cell_type": "code",
   "execution_count": null,
   "metadata": {},
   "outputs": [],
   "source": [
    "A = np.array([[3,0,0],[0,1,-2],[0,5,0]])"
   ]
  },
  {
   "cell_type": "code",
   "execution_count": null,
   "metadata": {},
   "outputs": [],
   "source": [
    "detA = np.linalg.det(A)\n",
    "print(detA)"
   ]
  },
  {
   "cell_type": "markdown",
   "metadata": {},
   "source": [
    "Invertível, determinante diferente de zero."
   ]
  },
  {
   "cell_type": "markdown",
   "metadata": {},
   "source": [
    "*f)* $\\begin{equation}\n",
    "\\begin{bmatrix} 1 & -1 & 1 \\\\ 1 & 1 & 3 \\\\ 0 & 1 & 1\\end{bmatrix}\n",
    "\\end{equation}$"
   ]
  },
  {
   "cell_type": "code",
   "execution_count": null,
   "metadata": {},
   "outputs": [],
   "source": [
    "A = np.array([[1,-1,1],[1,1,3],[0,1,1]])"
   ]
  },
  {
   "cell_type": "code",
   "execution_count": null,
   "metadata": {},
   "outputs": [],
   "source": [
    "detA = np.linalg.det(A)\n",
    "print(detA)"
   ]
  },
  {
   "cell_type": "markdown",
   "metadata": {},
   "source": [
    "Não invertível, determinante igual a zero"
   ]
  },
  {
   "cell_type": "markdown",
   "metadata": {},
   "source": [
    "*g)* $\\begin{equation}\n",
    "\\begin{bmatrix} 1 & 12 & 22 & 31 \\\\ 0 & 3 & 11 & 16 \\\\ 0 & 0 & 1 & 10 \\\\ 0 & 0 & 0 & 1\\end{bmatrix}\n",
    "\\end{equation}$"
   ]
  },
  {
   "cell_type": "code",
   "execution_count": null,
   "metadata": {},
   "outputs": [],
   "source": [
    "A = np.array([[1,12,22,31],[0,3,11,16],[0,0,1,10],[0,0,0,1]])"
   ]
  },
  {
   "cell_type": "code",
   "execution_count": null,
   "metadata": {},
   "outputs": [],
   "source": [
    "detA = np.linalg.det(A)\n",
    "print(detA)"
   ]
  },
  {
   "cell_type": "markdown",
   "metadata": {},
   "source": [
    "Invertível, determinante diferente de zero."
   ]
  },
  {
   "cell_type": "markdown",
   "metadata": {},
   "source": [
    "*h)* $\\begin{equation}\n",
    "\\begin{bmatrix} 1 & 0 & 0 & 3 \\\\ 1 & 1 & 0 & 3 \\\\ 0 & 3 & 1 & 1 \\\\ 0 & 2 & 2 & 2\\end{bmatrix}\n",
    "\\end{equation}$"
   ]
  },
  {
   "cell_type": "code",
   "execution_count": null,
   "metadata": {},
   "outputs": [],
   "source": [
    "A = np.array([[1,0,0,3],[1,1,0,3],[0,3,1,1],[0,2,2,2]])"
   ]
  },
  {
   "cell_type": "code",
   "execution_count": null,
   "metadata": {},
   "outputs": [],
   "source": [
    "detA = np.linalg.det(A)\n",
    "print(detA)"
   ]
  },
  {
   "cell_type": "markdown",
   "metadata": {},
   "source": [
    "Não invertível, determinante igual a zero"
   ]
  },
  {
   "cell_type": "markdown",
   "metadata": {},
   "source": [
    "*i)* $\\begin{equation}\n",
    "\\begin{bmatrix} 1 & 0 & 0 & 2 \\\\ 0 & 1 & 2 & 3 \\\\ 0 & 2 & 1 & 2 \\\\ 3 & 3 & 0 & 1\\end{bmatrix}\n",
    "\\end{equation}$"
   ]
  },
  {
   "cell_type": "code",
   "execution_count": null,
   "metadata": {},
   "outputs": [],
   "source": [
    "A = np.array([[1,0,0,2],[0,1,2,3],[0,2,1,2],[3,3,0,1]])"
   ]
  },
  {
   "cell_type": "code",
   "execution_count": null,
   "metadata": {},
   "outputs": [],
   "source": [
    "detA = np.linalg.det(A)\n",
    "print(detA)"
   ]
  },
  {
   "cell_type": "markdown",
   "metadata": {},
   "source": [
    "Invertível, determinante diferente de zero."
   ]
  },
  {
   "cell_type": "markdown",
   "metadata": {},
   "source": [
    "## Exercício 12\n",
    "*Sabendo que*\n",
    "\n",
    "\\begin{equation}\n",
    "\\begin{vmatrix} a & b & c \\\\ d & e & f \\\\ g & h & i\\end{vmatrix} =  5,\n",
    "\\end{equation}\n",
    "\n",
    "*calcule:*"
   ]
  },
  {
   "cell_type": "markdown",
   "metadata": {},
   "source": [
    "*a)* $\\begin{equation}\n",
    "\\begin{vmatrix} d & e & f \\\\ g & h & i \\\\ a & b & c\\end{vmatrix}\n",
    "\\end{equation}$"
   ]
  },
  {
   "cell_type": "markdown",
   "metadata": {},
   "source": [
    "Utilizando a propriedade da determinante da troca de linha, temos:\n",
    "\n",
    "$det(A)(-1)(-1) = 5$"
   ]
  },
  {
   "cell_type": "markdown",
   "metadata": {},
   "source": [
    "*b)* $\\begin{equation}\n",
    "\\begin{vmatrix} -a & -b & -c \\\\ 2d & 2e & 2f \\\\ -g & -h & -i\\end{vmatrix}\n",
    "\\end{equation}$"
   ]
  },
  {
   "cell_type": "markdown",
   "metadata": {},
   "source": [
    "Utilizando a propriedade da determinante da multiplicação da linha por um escalar, temos:\n",
    "\n",
    "$det(A)(-1)(2)(-1) = 10$"
   ]
  },
  {
   "cell_type": "markdown",
   "metadata": {},
   "source": [
    "*c)* $\\begin{equation}\n",
    "\\begin{vmatrix} a+d & b+e & c+f \\\\ d & e & f \\\\ g & h & i\\end{vmatrix}\n",
    "\\end{equation}$"
   ]
  },
  {
   "cell_type": "markdown",
   "metadata": {},
   "source": [
    "Utilizando a propriedade da determinante da soma de linhas, temos:\n",
    "\n",
    "$det(A) =  5$"
   ]
  },
  {
   "cell_type": "markdown",
   "metadata": {},
   "source": [
    "*d)* $\\begin{equation}\n",
    "\\begin{vmatrix} a & b & c \\\\ d-3a & e-3b & f-3c \\\\ 2g & 2h & 2i\\end{vmatrix}\n",
    "\\end{equation}$"
   ]
  },
  {
   "cell_type": "markdown",
   "metadata": {},
   "source": [
    "Utilizando a propriedade da determinante da soma de linhas e da multiplicação por escalar, temos:\n",
    "\n",
    "$det(A)(2) = 10$"
   ]
  },
  {
   "cell_type": "markdown",
   "metadata": {},
   "source": [
    "## Exercício 13\n"
   ]
  },
  {
   "cell_type": "markdown",
   "metadata": {},
   "source": [
    "*Sabendo que os valores reais $\\gamma$ e $\\delta$ são tais que:*\n",
    "\n",
    "\\begin{equation}\n",
    "\\begin{vmatrix} 1 & 2 & \\gamma \\\\ \\delta & 1 & 1 \\\\ 1 & \\gamma + \\delta & 2\\end{vmatrix} = 1,\n",
    "\\end{equation}\n",
    "\n",
    "*calcule:*\n",
    "\n",
    "\\begin{equation}\n",
    "\\begin{vmatrix} 1 & 2 & \\gamma \\\\ \\delta & \\delta\\gamma+\\delta^2 & 2\\delta \\\\ \\delta\\gamma & \\gamma & \\gamma\\end{vmatrix} = 1,\n",
    "\\end{equation}\n",
    "\n"
   ]
  },
  {
   "cell_type": "markdown",
   "metadata": {},
   "source": [
    "Pela propriedade da determinante da troca de linha e da multiplicação da linha por um escalar, temos:\n",
    "\n",
    "$det(A') = det(A)(-1)(\\gamma)(\\delta) = -\\gamma\\delta$"
   ]
  },
  {
   "cell_type": "markdown",
   "metadata": {},
   "source": [
    "## Exercício 14\n",
    "*Considere as matrizes*\n",
    "\n",
    "\\begin{equation}\n",
    "A = \\begin{bmatrix} 1 & 0 & 1 \\\\ 0 & 1 & 5 \\\\ 3 & 0 & 1\\end{bmatrix} e B = \\begin{bmatrix} 2 & 2 & 2 \\\\ 0 & 2 & 2 \\\\ 1 & 1 & 2\\end{bmatrix}\n",
    "\\end{equation}\n",
    "\n",
    "calcule:"
   ]
  },
  {
   "cell_type": "code",
   "execution_count": null,
   "metadata": {},
   "outputs": [],
   "source": [
    "A = np.array([[1,0,1],[0,1,5],[3,0,1]])\n",
    "B = np.array([[2,2,2],[0,2,2],[1,1,2]])"
   ]
  },
  {
   "cell_type": "markdown",
   "metadata": {},
   "source": [
    "*a)* $det(3A)$:"
   ]
  },
  {
   "cell_type": "code",
   "execution_count": null,
   "metadata": {},
   "outputs": [],
   "source": [
    "print(np.linalg.det(3*A))"
   ]
  },
  {
   "cell_type": "markdown",
   "metadata": {},
   "source": [
    "*b)* $det(A^3B^2)$:"
   ]
  },
  {
   "cell_type": "code",
   "execution_count": null,
   "metadata": {},
   "outputs": [],
   "source": [
    "print(np.linalg.det(np.linalg.matrix_power(A,3).dot(np.linalg.matrix_power(B,2))))"
   ]
  },
  {
   "cell_type": "markdown",
   "metadata": {},
   "source": [
    "*c)* $det(A^{-1}B^T)$:"
   ]
  },
  {
   "cell_type": "code",
   "execution_count": null,
   "metadata": {},
   "outputs": [],
   "source": [
    "print(np.linalg.det(np.linalg.inv(A).dot(B.transpose())))"
   ]
  },
  {
   "cell_type": "markdown",
   "metadata": {},
   "source": [
    "*d)* $det(A^4B^{-2})$:"
   ]
  },
  {
   "cell_type": "code",
   "execution_count": null,
   "metadata": {},
   "outputs": [],
   "source": [
    "print(np.linalg.det(np.linalg.matrix_power(A,4).dot(np.linalg.matrix_power(B,-2))))"
   ]
  },
  {
   "cell_type": "markdown",
   "metadata": {},
   "source": [
    "## Exercício 15\n",
    "*Mostre que*\n",
    "\n",
    "\\begin{equation}\n",
    "\\begin{vmatrix} \n",
    "\\lambda & 1 & 1 & 1 & 1 & 1 \\\\\n",
    "\\lambda & \\lambda + 1 & 2 & 2 & 2 & 2 \\\\\n",
    "\\lambda & \\lambda + 1 & \\lambda + 2 & 3 & 3 & 3 \\\\\n",
    "\\lambda & \\lambda + 1 & \\lambda + 2 & \\lambda + 3 & 4 & 4 \\\\\n",
    "\\lambda & \\lambda + 1 & \\lambda + 2 & \\lambda + 3 & \\lambda + 4 & 5\\\\\n",
    "\\lambda & \\lambda + 1 & \\lambda + 2 & \\lambda + 3 & \\lambda + 4 & \\lambda + 5\\\\\n",
    "\\end{vmatrix} = \\lambda^{6}.\n",
    "\\end{equation}"
   ]
  },
  {
   "cell_type": "markdown",
   "metadata": {},
   "source": [
    "Substituindo $\\lambda$ por $x$."
   ]
  },
  {
   "cell_type": "code",
   "execution_count": null,
   "metadata": {},
   "outputs": [],
   "source": [
    "λ = Symbol('λ')\n",
    "A = Matrix([[λ,1,1,1,1,1],[λ,λ+1,2,2,2,2],[λ,λ+1,λ+2,3,3,3],[λ,λ+1,λ+2,λ+3,4,4],[λ,λ+1,λ+2,λ+3,λ+4,5],[λ,λ+1,λ+2,λ+3,λ+4,λ+5]])"
   ]
  },
  {
   "cell_type": "markdown",
   "metadata": {},
   "source": [
    "Por eliminação de Gauss:"
   ]
  },
  {
   "cell_type": "code",
   "execution_count": null,
   "metadata": {},
   "outputs": [],
   "source": [
    "for j in range(0,5):\n",
    "    for i in range(j+1,6):\n",
    "        A[i,:] = A[i,:] - A[j,:]"
   ]
  },
  {
   "cell_type": "markdown",
   "metadata": {},
   "source": [
    "Chegamos à matriz triangular superior A:"
   ]
  },
  {
   "cell_type": "code",
   "execution_count": null,
   "metadata": {},
   "outputs": [],
   "source": [
    "pprint(A)"
   ]
  },
  {
   "cell_type": "markdown",
   "metadata": {},
   "source": [
    "Cujo determinante é o produto da diagonal, $\\lambda^6$."
   ]
  },
  {
   "cell_type": "markdown",
   "metadata": {},
   "source": [
    "## Exercício 16\n",
    "*Calcule o determinante da matriz*\n",
    "![exec16](exec16.png)\n"
   ]
  },
  {
   "cell_type": "code",
   "execution_count": null,
   "metadata": {},
   "outputs": [],
   "source": []
  },
  {
   "cell_type": "markdown",
   "metadata": {},
   "source": [
    "## Exercício 17\n",
    "\n",
    "\\begin{equation}\n",
    "\\begin{vmatrix} \n",
    "1 & 1 & 1\\\\\n",
    "\\lambda_1 & \\lambda_2 & \\lambda_3\\\\\n",
    "\\lambda_1^2 & \\lambda_2^2 & \\lambda_3^2\\\\\n",
    "\\end{vmatrix} = (\\lambda_3 - \\lambda_2)(\\lambda_3 - \\lambda_1)(\\lambda_2 - \\lambda_1).\n",
    "\\end{equation}\n"
   ]
  },
  {
   "cell_type": "code",
   "execution_count": null,
   "metadata": {},
   "outputs": [],
   "source": [
    "λ1 = Symbol('λ1') \n",
    "λ2 = Symbol('λ2')\n",
    "λ3 = Symbol('λ3')\n",
    "\n",
    "A = Matrix([[1,1,1],[λ1,λ2,λ3],[λ1**2,λ2**2,λ3**2]])"
   ]
  },
  {
   "cell_type": "markdown",
   "metadata": {},
   "source": [
    "Calculando o determinate e realizando a fatoração, obtém-se:"
   ]
  },
  {
   "cell_type": "code",
   "execution_count": null,
   "metadata": {},
   "outputs": [],
   "source": [
    "pprint(factor(A.det()))"
   ]
  }
 ],
 "metadata": {
  "kernelspec": {
   "display_name": "Python [default]",
   "language": "python",
   "name": "python3"
  },
  "language_info": {
   "codemirror_mode": {
    "name": "ipython",
    "version": 3
   },
   "file_extension": ".py",
   "mimetype": "text/x-python",
   "name": "python",
   "nbconvert_exporter": "python",
   "pygments_lexer": "ipython3"
  }
 },
 "nbformat": 4,
 "nbformat_minor": 2
}

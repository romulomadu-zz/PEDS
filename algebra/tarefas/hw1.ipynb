{
 "cells": [
  {
   "cell_type": "code",
   "execution_count": null,
   "metadata": {},
   "outputs": [],
   "source": [
    "import numpy as np\n",
    "import matplotlib.pyplot as plt\n",
    "%matplotlib inline"
   ]
  },
  {
   "cell_type": "markdown",
   "metadata": {},
   "source": [
    "# Naive implementation"
   ]
  },
  {
   "cell_type": "code",
   "execution_count": null,
   "metadata": {},
   "outputs": [],
   "source": [
    "def zeros(m_rows,n_columns):\n",
    "\t'''\n",
    "\tCreate m by n list matrix of zeros.\n",
    "\t'''\n",
    "\treturn [[0 for j in range(n_columns)] for i in range(m_rows)]\n",
    "\n",
    "def randmat(m_rows,n_columns):\n",
    "\t'''\n",
    "\tCreate m by n list matrix of random numbers between 0 and 9\n",
    "\t'''\n",
    "\treturn [[randint(0, 9) for j in range(n_columns)] for i in range(m_rows)]\n",
    "\n",
    "def naivemul(A,B):\n",
    "\t'''\n",
    "\tMultiply to list matrix using naive method.\n",
    "\t'''\n",
    "    \n",
    "    # Get matrix dimensions\n",
    "\tm_rowsA = len(A)\n",
    "\tm_rowsB = len(B)\n",
    "\tn_columnsA = len(A[0])\n",
    "\tn_columnsB = len(B[0])\n",
    "    \n",
    "    # Check multiplication requirement\n",
    "\tif n_columnsA != m_rowsB:\n",
    "\t\traise ValueError('Incompatible dimensions.')\n",
    "\telse:\n",
    "        \n",
    "        # Create output matrix filled with zeros\n",
    "\t\tC = zeros(m_rowsA, n_columnsB)\n",
    "        \n",
    "        # Fill output matrix with multiplication results\n",
    "\t\tfor i in range(m_rowsA):\n",
    "\t\t\tfor j in range(n_columnsB):\n",
    "\t\t\t\tfor k in range(n_columnsA):\n",
    "\t\t\t\t\tC[i][j] += A[i][k]*B[k][j]\n",
    "\treturn C"
   ]
  },
  {
   "cell_type": "code",
   "execution_count": null,
   "metadata": {},
   "outputs": [],
   "source": [
    "import time\n",
    "import pandas as pd"
   ]
  },
  {
   "cell_type": "markdown",
   "metadata": {},
   "source": [
    "# Performance measure"
   ]
  },
  {
   "cell_type": "code",
   "execution_count": null,
   "metadata": {},
   "outputs": [],
   "source": [
    "lst = list()\n",
    "for n in range(1,100):\n",
    "    A = randmat(n,n) \n",
    "    # naive\n",
    "    start_time = time.time()\n",
    "    naivemul(A,A)\n",
    "    tnaive = time.time() - start_time\n",
    "    A = np.array(A)\n",
    "    # numpy\n",
    "    start_time = time.time()\n",
    "    A.dot(A)\n",
    "    tnumpy = time.time() - start_time\n",
    "    lst.append((n, np.log(tnaive), np.log(tnumpy)))"
   ]
  },
  {
   "cell_type": "code",
   "execution_count": null,
   "metadata": {},
   "outputs": [],
   "source": [
    "test = pd.DataFrame(lst, columns=['n', 'logtime_naive', 'logtime_numpy'])"
   ]
  },
  {
   "cell_type": "code",
   "execution_count": null,
   "metadata": {},
   "outputs": [],
   "source": [
    "test.set_index('n').plot()\n",
    "plt.show()"
   ]
  },
  {
   "cell_type": "code",
   "execution_count": null,
   "metadata": {},
   "outputs": [],
   "source": []
  }
 ],
 "metadata": {
  "kernelspec": {
   "display_name": "Python [conda env:anaconda3]",
   "language": "python",
   "name": "conda-env-anaconda3-py"
  },
  "language_info": {
   "codemirror_mode": {
    "name": "ipython",
    "version": 3
   },
   "file_extension": ".py",
   "mimetype": "text/x-python",
   "name": "python",
   "nbconvert_exporter": "python",
   "pygments_lexer": "ipython3"
  }
 },
 "nbformat": 4,
 "nbformat_minor": 2
}
